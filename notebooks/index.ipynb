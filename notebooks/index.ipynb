{
 "cells": [
  {
   "cell_type": "code",
   "execution_count": null,
   "metadata": {},
   "outputs": [],
   "source": [
    "#| hide\n",
    "from webdavnext.core import *"
   ]
  },
  {
   "cell_type": "markdown",
   "metadata": {},
   "source": [
    "# Welcome to webdavnext\n",
    "\n",
    "> Experimental Python package to support working with data from (y)our Nextcloud server"
   ]
  },
  {
   "cell_type": "markdown",
   "metadata": {},
   "source": [
    "Interdisciplinary cooperation in data science projects requires smooth access to both code and data. However, in our world of heritage science we lack basic infrastructure to easily share data files that can be explored and used directly in Jupyter notebooks. Recently our lab has installed a Nextcloud server that gives our team the possibility to share project folders with data files. These can be accessed manually via a web interface, but also programmatically with the webdav protocol. \n",
    "\n",
    "With `webdavnext` we want to learn how to smoothly share dynamic data directly in Jupyter notebooks via the webdav protocol... "
   ]
  }
 ],
 "metadata": {
  "kernelspec": {
   "display_name": "python3",
   "language": "python",
   "name": "python3"
  }
 },
 "nbformat": 4,
 "nbformat_minor": 4
}
