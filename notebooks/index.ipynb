{
 "cells": [
  {
   "cell_type": "markdown",
   "metadata": {},
   "source": [
    "# Welcome to fairdatanow\n",
    "\n",
    "> A small Python package to support interdisciplinary research by sharing data from (y)our Nextcloud server"
   ]
  },
  {
   "cell_type": "markdown",
   "metadata": {},
   "source": [
    "Effective interdisciplinary cooperation in data science projects requires smooth access to both data and code. And with the recent development of two amazing open source frameworks (self hosted Nextcloud for data storage and Jupyter notebooks for computing), we are now in a position to actually make this happen. Recently our lab (the Rijkserfgoedlaboratorium in Amsterdam) has installed a Nextcloud server that gives our lab the possibility to share data files organized in project folders with research partners. These can be accessed manually via a web interface, but also programmatically with the webdav protocol!  With `fairdatanow` we want to learn how to easily find en download data files from a Nextcloud storage directly in Jupyter notebooks in order to explore them and create visualizations. \n",
    "\n",
    "Under the hood the `fairdatanow` makes use of the Nextcloud Python Framework [nc-py-api](https://pypi.org/project/nc-py-api) for communication with the cloud server, and the powerful [holoviz](https://holoviz.org) Python packages and for creating interactive tables. \n",
    "\n",
    "Although the package is still **under construction** it is already available for installation from the python package index. "
   ]
  }
 ],
 "metadata": {
  "kernelspec": {
   "display_name": "python3",
   "language": "python",
   "name": "python3"
  }
 },
 "nbformat": 4,
 "nbformat_minor": 4
}
