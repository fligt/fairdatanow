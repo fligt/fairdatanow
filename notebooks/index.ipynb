{
 "cells": [
  {
   "cell_type": "markdown",
   "metadata": {},
   "source": [
    "# Welcome to fairdatanow\n",
    "\n",
    "> A small Python package to support interdisciplinary research by sharing data from (y)our Nextcloud server"
   ]
  },
  {
   "cell_type": "markdown",
   "metadata": {},
   "source": [
    "Here is the thing. You can not develop code without data and you can not explore your data without code. \n",
    "\n",
    "\n",
    "Effective interdisciplinary cooperation in data science projects requires smooth access to both data and code. In the meanwhile our project team members enthusiastically keep turning every stone and thus create thousands of files in a few months time... \n",
    "\n",
    "However, in our world of heritage science we lack basic infrastructure to easily share data files that can be explored and used directly in Jupyter notebooks. Recently our lab has installed a Nextcloud server that gives our team the possibility to share project folders with data files. These can be accessed manually via a web interface, but also programmatically with the webdav protocol. \n",
    "\n",
    "With `fairdatanow` we want to learn how to smoothly share dynamic data directly in Jupyter notebooks... "
   ]
  }
 ],
 "metadata": {
  "kernelspec": {
   "display_name": "python3",
   "language": "python",
   "name": "python3"
  }
 },
 "nbformat": 4,
 "nbformat_minor": 4
}
