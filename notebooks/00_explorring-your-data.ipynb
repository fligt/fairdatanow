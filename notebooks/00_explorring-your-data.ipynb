{
 "cells": [
  {
   "cell_type": "markdown",
   "metadata": {},
   "source": [
    "# Exploring your data \n",
    "\n",
    "> More stuff coming here "
   ]
  },
  {
   "cell_type": "code",
   "execution_count": null,
   "metadata": {},
   "outputs": [],
   "source": [
    "#| default_exp webdav"
   ]
  },
  {
   "cell_type": "code",
   "execution_count": null,
   "metadata": {},
   "outputs": [],
   "source": [
    "import webdav3"
   ]
  },
  {
   "cell_type": "code",
   "execution_count": null,
   "metadata": {},
   "outputs": [],
   "source": [
    "from webdav3.client import Client"
   ]
  },
  {
   "cell_type": "code",
   "execution_count": null,
   "metadata": {},
   "outputs": [],
   "source": [
    "options = {\n",
    " 'webdav_hostname': \"https://laboppad.nl/remote.php/dav/files/asap-public-webdav\",\n",
    " 'webdav_login':    \"asap-public-webdav\",\n",
    " 'webdav_password': \"ASAP-READ-data\"\n",
    "}"
   ]
  },
  {
   "cell_type": "code",
   "execution_count": null,
   "metadata": {},
   "outputs": [],
   "source": [
    "client = Client(options)"
   ]
  },
  {
   "cell_type": "code",
   "execution_count": null,
   "metadata": {},
   "outputs": [
    {
     "data": {
      "text/plain": [
       "[{'created': None,\n",
       "  'name': None,\n",
       "  'size': None,\n",
       "  'modified': 'Mon, 30 Jun 2025 14:24:52 GMT',\n",
       "  'etag': '\"68629e3404395\"',\n",
       "  'content_type': None,\n",
       "  'isdir': True,\n",
       "  'path': '/remote.php/dav/files/asap-public-webdav/asap-data/'},\n",
       " {'created': None,\n",
       "  'name': None,\n",
       "  'size': '3',\n",
       "  'modified': 'Mon, 30 Jun 2025 14:24:52 GMT',\n",
       "  'etag': '\"afc6240efe9f482e9db04b98be83f584\"',\n",
       "  'content_type': 'text/markdown',\n",
       "  'isdir': False,\n",
       "  'path': '/remote.php/dav/files/asap-public-webdav/asap-data/a-little-test.md'}]"
      ]
     },
     "execution_count": null,
     "metadata": {},
     "output_type": "execute_result"
    }
   ],
   "source": [
    "client.list(remote_path='asap-data', get_info=True)"
   ]
  },
  {
   "cell_type": "code",
   "execution_count": null,
   "metadata": {},
   "outputs": [],
   "source": [
    "client."
   ]
  }
 ],
 "metadata": {
  "kernelspec": {
   "display_name": "python3",
   "language": "python",
   "name": "python3"
  }
 },
 "nbformat": 4,
 "nbformat_minor": 4
}
